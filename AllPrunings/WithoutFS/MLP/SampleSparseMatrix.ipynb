{
 "cells": [
  {
   "cell_type": "code",
   "execution_count": 2,
   "id": "435e532c-7fad-488a-9556-906a3bed5405",
   "metadata": {},
   "outputs": [
    {
     "name": "stdout",
     "output_type": "stream",
     "text": [
      "Dense Matrix:\n",
      "[[1 0 0 4]\n",
      " [0 5 0 0]\n",
      " [7 0 8 0]]\n",
      "\n",
      "Sparse Matrix Data:\n",
      "[1 4 5 7 8]\n",
      "Sparse Matrix Column Indices:\n",
      "[0 3 1 0 2]\n",
      "Sparse Matrix Row Pointers (indptr):\n",
      "[0 2 3 5]\n",
      "\n",
      "Reconstructed Dense Matrix from Sparse:\n",
      "[[1 0 0 4]\n",
      " [0 5 0 0]\n",
      " [7 0 8 0]]\n"
     ]
    }
   ],
   "source": [
    "import numpy as np\n",
    "from scipy.sparse import csr_matrix\n",
    "\n",
    "# Define a simple 3x4 dense matrix\n",
    "dense_matrix = np.array([\n",
    "    [1, 0, 0, 4],\n",
    "    [0, 5, 0, 0],\n",
    "    [7, 0, 8, 0]\n",
    "])\n",
    "\n",
    "# Convert the dense matrix to a CSR (Compressed Sparse Row) format\n",
    "sparse_matrix = csr_matrix(dense_matrix)\n",
    "\n",
    "# Display the dense matrix\n",
    "print(\"Dense Matrix:\")\n",
    "print(dense_matrix)\n",
    "\n",
    "# Display the sparse matrix data\n",
    "print(\"\\nSparse Matrix Data:\")\n",
    "print(sparse_matrix.data)\n",
    "\n",
    "# Display the indices of the non-zero elements (column indices)\n",
    "print(\"Sparse Matrix Column Indices:\")\n",
    "print(sparse_matrix.indices)\n",
    "\n",
    "# Display the index pointer for the beginning of each row (index pointer for each row)\n",
    "print(\"Sparse Matrix Row Pointers (indptr):\")\n",
    "print(sparse_matrix.indptr)\n",
    "\n",
    "# Display the sparse matrix in dense format (to verify correctness)\n",
    "print(\"\\nReconstructed Dense Matrix from Sparse:\")\n",
    "print(sparse_matrix.toarray())\n"
   ]
  },
  {
   "cell_type": "code",
   "execution_count": null,
   "id": "06986ed3-115d-40c2-beb7-e7e5566d2cec",
   "metadata": {},
   "outputs": [],
   "source": []
  }
 ],
 "metadata": {
  "kernelspec": {
   "display_name": "Python 3 (ipykernel)",
   "language": "python",
   "name": "python3"
  },
  "language_info": {
   "codemirror_mode": {
    "name": "ipython",
    "version": 3
   },
   "file_extension": ".py",
   "mimetype": "text/x-python",
   "name": "python",
   "nbconvert_exporter": "python",
   "pygments_lexer": "ipython3",
   "version": "3.12.4"
  }
 },
 "nbformat": 4,
 "nbformat_minor": 5
}
